{
 "cells": [
  {
   "cell_type": "markdown",
   "metadata": {},
   "source": [
    "# Keras Tutorial"
   ]
  },
  {
   "cell_type": "markdown",
   "metadata": {},
   "source": [
    "Keras is a popular deep learning framework and it's easy to get started."
   ]
  },
  {
   "cell_type": "code",
   "execution_count": 2,
   "metadata": {},
   "outputs": [],
   "source": [
    "import keras\n",
    "from keras.datasets import mnist\n",
    "from keras.models import Sequential\n",
    "from keras.layers import Dense, Dropout, Flatten, Conv2D, MaxPooling2D\n",
    "\n",
    "BATCH_SIZE = 128\n",
    "NUM_CLASSES = 10\n",
    "NUM_EPOCHS = 10"
   ]
  },
  {
   "cell_type": "markdown",
   "metadata": {},
   "source": [
    "First, we read the mnist data and preprocess them."
   ]
  },
  {
   "cell_type": "code",
   "execution_count": 3,
   "metadata": {},
   "outputs": [],
   "source": [
    "# download and load the data (split them between train and test sets)\n",
    "(x_train, y_train), (x_test, y_test) = mnist.load_data()\n",
    "\n",
    "# expand the channel dimension\n",
    "x_train = x_train.reshape(x_train.shape[0], 28, 28, 1)\n",
    "x_test = x_test.reshape(x_test.shape[0], 28, 28, 1)\n",
    "input_shape = (28, 28, 1)\n",
    "\n",
    "# make the value of pixels from [0, 255] to [0, 1] for further process\n",
    "x_train = x_train.astype('float32') / 255.\n",
    "x_test = x_test.astype('float32') / 255.\n",
    "\n",
    "# convert class vectors to binary class matrics\n",
    "y_train = keras.utils.to_categorical(y_train, NUM_CLASSES)\n",
    "y_test = keras.utils.to_categorical(y_test, NUM_CLASSES)"
   ]
  },
  {
   "cell_type": "markdown",
   "metadata": {},
   "source": [
    "Then, we define the model, object function and optimizer that we use to classify."
   ]
  },
  {
   "cell_type": "code",
   "execution_count": 4,
   "metadata": {},
   "outputs": [],
   "source": [
    "# define the model\n",
    "model = Sequential()\n",
    "model.add(Conv2D(filters=5,kernel_size=(3,3),strides=(1,1),input_shape=x_train.shape[1:],padding='same',\n",
    "                     data_format='channels_last',activation='relu',kernel_initializer='uniform'))\n",
    "model.add(Dropout(0.2))\n",
    "model.add(MaxPooling2D((2,2)))\n",
    "\n",
    "model.add(Conv2D(16,(3,3),strides=(1,1),data_format='channels_last',padding='same',activation='relu',kernel_initializer='uniform'))\n",
    "model.add(Dropout(0.2))\n",
    "model.add(MaxPooling2D(2,2))\n",
    "\n",
    "model.add(Conv2D(32, (3, 3), strides=(1, 1), data_format='channels_last', padding='same', activation='relu',\n",
    "                     kernel_initializer='uniform'))   \n",
    "model.add(Dropout(0.2))\n",
    "model.add(MaxPooling2D(2, 2))\n",
    "\n",
    "model.add(Conv2D(100,(3,3),strides=(1,1),data_format='channels_last',activation='relu',kernel_initializer='uniform'))  \n",
    "model.add(Flatten(data_format='channels_last'))  \n",
    "model.add(Dense(168,activation='relu'))   \n",
    "model.add(Dense(84,activation='relu'))    \n",
    "model.add(Dense(10,activation='softmax'))\n",
    "\n",
    "model.compile(optimizer='adam',loss='categorical_crossentropy',metrics=['accuracy']) "
   ]
  },
  {
   "cell_type": "markdown",
   "metadata": {},
   "source": [
    "Next, we can start to train and evaluate!"
   ]
  },
  {
   "cell_type": "code",
   "execution_count": 5,
   "metadata": {},
   "outputs": [
    {
     "name": "stdout",
     "output_type": "stream",
     "text": [
      "Epoch 1/20\n",
      "469/469 [==============================] - 9s 19ms/step - loss: 1.0359 - accuracy: 0.6328\n",
      "Epoch 2/20\n",
      "469/469 [==============================] - 9s 18ms/step - loss: 0.1480 - accuracy: 0.9537\n",
      "Epoch 3/20\n",
      "469/469 [==============================] - 9s 19ms/step - loss: 0.1045 - accuracy: 0.9685\n",
      "Epoch 4/20\n",
      "469/469 [==============================] - 9s 19ms/step - loss: 0.0906 - accuracy: 0.9717\n",
      "Epoch 5/20\n",
      "469/469 [==============================] - 9s 19ms/step - loss: 0.0742 - accuracy: 0.9762\n",
      "Epoch 6/20\n",
      "469/469 [==============================] - 9s 19ms/step - loss: 0.0683 - accuracy: 0.9777\n",
      "Epoch 7/20\n",
      "469/469 [==============================] - 9s 19ms/step - loss: 0.0616 - accuracy: 0.9805\n",
      "Epoch 8/20\n",
      "469/469 [==============================] - 9s 19ms/step - loss: 0.0582 - accuracy: 0.9809 0s - loss: 0.0583 - accura\n",
      "Epoch 9/20\n",
      "469/469 [==============================] - 9s 19ms/step - loss: 0.0507 - accuracy: 0.9833\n",
      "Epoch 10/20\n",
      "469/469 [==============================] - 9s 19ms/step - loss: 0.0519 - accuracy: 0.9825\n",
      "Epoch 11/20\n",
      "469/469 [==============================] - 9s 19ms/step - loss: 0.0463 - accuracy: 0.9850\n",
      "Epoch 12/20\n",
      "469/469 [==============================] - 9s 19ms/step - loss: 0.0412 - accuracy: 0.9864\n",
      "Epoch 13/20\n",
      "469/469 [==============================] - 9s 19ms/step - loss: 0.0399 - accuracy: 0.9867\n",
      "Epoch 14/20\n",
      "469/469 [==============================] - 9s 19ms/step - loss: 0.0418 - accuracy: 0.9862\n",
      "Epoch 15/20\n",
      "469/469 [==============================] - 9s 19ms/step - loss: 0.0390 - accuracy: 0.9877\n",
      "Epoch 16/20\n",
      "469/469 [==============================] - 9s 19ms/step - loss: 0.0396 - accuracy: 0.9871\n",
      "Epoch 17/20\n",
      "469/469 [==============================] - 9s 19ms/step - loss: 0.0354 - accuracy: 0.9885\n",
      "Epoch 18/20\n",
      "469/469 [==============================] - 9s 19ms/step - loss: 0.0328 - accuracy: 0.9893\n",
      "Epoch 19/20\n",
      "469/469 [==============================] - 9s 19ms/step - loss: 0.0354 - accuracy: 0.9882\n",
      "Epoch 20/20\n",
      "469/469 [==============================] - 9s 19ms/step - loss: 0.0295 - accuracy: 0.9905\n",
      "1875/1875 [==============================] - 4s 2ms/step - loss: 0.0554 - accuracy: 0.9871\n",
      "Training loss: 0.0554, Training accuracy: 98.71%\n",
      "313/313 [==============================] - 1s 2ms/step - loss: 0.0670 - accuracy: 0.9828\n",
      "Testing loss: 0.0670, Testing accuracy: 98.28%\n"
     ]
    }
   ],
   "source": [
    "# train\n",
    "model.fit(x=x_train,y=y_train,batch_size=128,epochs=20)\n",
    "\n",
    "# evaluate\n",
    "score_train = model.evaluate(x_train,y_train)\n",
    "print('Training loss: %.4f, Training accuracy: %.2f%%' % (score_train[0],score_train[1]*100))\n",
    "score_test = model.evaluate(x_test, y_test)\n",
    "print('Testing loss: %.4f, Testing accuracy: %.2f%%' % (score_test[0],score_test[1]*100))"
   ]
  },
  {
   "cell_type": "markdown",
   "metadata": {},
   "source": [
    "#### Q6:\n",
    "Please print the training and testing accuracy."
   ]
  }
 ],
 "metadata": {
  "kernelspec": {
   "display_name": "Python 3",
   "language": "python",
   "name": "python3"
  },
  "language_info": {
   "codemirror_mode": {
    "name": "ipython",
    "version": 3
   },
   "file_extension": ".py",
   "mimetype": "text/x-python",
   "name": "python",
   "nbconvert_exporter": "python",
   "pygments_lexer": "ipython3",
   "version": "3.8.5"
  }
 },
 "nbformat": 4,
 "nbformat_minor": 2
}
